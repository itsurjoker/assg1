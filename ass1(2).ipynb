{
 "cells": [
  {
   "cell_type": "code",
   "execution_count": 2,
   "id": "0cc3ee9d-979d-4638-8abc-c6ab2d6dedbc",
   "metadata": {},
   "outputs": [],
   "source": [
    "#Q1.\n",
    "\n",
    "#1.String\n",
    "str = \"Hello, World!\"\n",
    "\n",
    "#2.List\n",
    "list = [1, 2, 3, 4, 5]\n",
    "\n",
    "#3.Float\n",
    "float = 2.45\n",
    "\n",
    "#4.Tuple\n",
    "tuple = (1, 2, 3, 4, 5)"
   ]
  },
  {
   "cell_type": "code",
   "execution_count": null,
   "id": "b986c19d-fecd-428c-bf81-ed179d7ae63b",
   "metadata": {},
   "outputs": [],
   "source": [
    "#Q2.\n",
    "\n",
    "(1) var1 = ‘ ‘: This variable var1 is a string that contains a single space character. It does not contain any other data or characters.\n",
    "\n",
    "(2) var2 = ‘[ DS , ML , Python]’: This variable var2 is a string that represents a list of three elements: 'DS', 'ML', and 'Python'. However, the elements are enclosed within single quotes, which makes them string literals rather than actual variables or objects.\n",
    "\n",
    "(3) var3 = [ ‘DS’ , ’ML’ , ‘Python’ ]: This variable var3 is a list that contains three elements: 'DS', 'ML', and 'Python'. The elements are enclosed within square brackets, and each element is a string.\n",
    "\n",
    "(4) var4 = 1: This variable var4 is an integer that has the value 1. It is a numerical value and can be used for mathematical operations or comparisons."
   ]
  },
  {
   "cell_type": "code",
   "execution_count": null,
   "id": "75a73eea-ee71-4059-94b8-fe407554871c",
   "metadata": {},
   "outputs": [],
   "source": [
    "#Q3.\n",
    "\n",
    "(1) Division Operator \n",
    "a = 10\n",
    "b = 3\n",
    "result = a / b\n",
    "print(result)\n",
    "output = 3.3333333333333335\n",
    "\n",
    "(2) Modulo Operator\n",
    "a = 10\n",
    "b = 3\n",
    "remainder = a % b\n",
    "print(remainder)\n",
    "Output: 1\n",
    "\n",
    "(3) Floor Division Operator\n",
    "a = 10\n",
    "b = 3\n",
    "result = a // b\n",
    "print(result)\n",
    "Output: 3\n",
    "\n",
    "(4) Exponentiation Operator\n",
    "a = 2\n",
    "b = 3\n",
    "result = a ** b\n",
    "print(result)  \n",
    "Output: 8"
   ]
  },
  {
   "cell_type": "code",
   "execution_count": 4,
   "id": "065abb75-84d8-4a8b-821c-30974becc23d",
   "metadata": {},
   "outputs": [
    {
     "name": "stdout",
     "output_type": "stream",
     "text": [
      "42 <class 'int'>\n",
      "Hello <class 'str'>\n",
      "3.14 <class 'float'>\n",
      "True <class 'bool'>\n",
      "[1, 2, 3] <class 'list'>\n",
      "{'name': 'John', 'age': 30} <class 'dict'>\n",
      "None <class 'NoneType'>\n",
      "('apple', 'banana') <class 'tuple'>\n",
      "(5+2j) <class 'complex'>\n",
      "False <class 'bool'>\n"
     ]
    }
   ],
   "source": [
    "#Q4.\n",
    "\n",
    "list = [42, 'Hello', 3.14, True, [1, 2, 3], {'name': 'John', 'age': 30}, None, ('apple', 'banana'), 5 + 2j, False]\n",
    "\n",
    "for item in list:\n",
    "    print(item, type(item))"
   ]
  },
  {
   "cell_type": "code",
   "execution_count": 5,
   "id": "3563b68b-3245-4d89-9f39-6d12fd279c4f",
   "metadata": {},
   "outputs": [
    {
     "name": "stdout",
     "output_type": "stream",
     "text": [
      "Number A is divisible by number B 2 times.\n"
     ]
    }
   ],
   "source": [
    "#Q5.\n",
    "\n",
    "def count_divisions(A, B):\n",
    "    count = 0\n",
    "\n",
    "    while A % B == 0:\n",
    "        count += 1\n",
    "        A /= B\n",
    "\n",
    "    return count\n",
    "\n",
    "# Example usage\n",
    "A = 36\n",
    "B = 6\n",
    "divisions = count_divisions(A, B)\n",
    "print(f\"Number A is divisible by number B {divisions} times.\")"
   ]
  },
  {
   "cell_type": "code",
   "execution_count": 6,
   "id": "3298e459-c834-404c-859e-afdd516c1ebc",
   "metadata": {},
   "outputs": [
    {
     "name": "stdout",
     "output_type": "stream",
     "text": [
      "17 is not divisible by 3\n",
      "9 is divisible by 3\n",
      "4 is not divisible by 3\n",
      "33 is divisible by 3\n",
      "10 is not divisible by 3\n",
      "21 is divisible by 3\n",
      "30 is divisible by 3\n",
      "2 is not divisible by 3\n",
      "27 is divisible by 3\n",
      "8 is not divisible by 3\n",
      "14 is not divisible by 3\n",
      "19 is not divisible by 3\n",
      "1 is not divisible by 3\n",
      "36 is divisible by 3\n",
      "7 is not divisible by 3\n",
      "15 is divisible by 3\n",
      "11 is not divisible by 3\n",
      "13 is not divisible by 3\n",
      "5 is not divisible by 3\n",
      "22 is not divisible by 3\n",
      "12 is divisible by 3\n",
      "3 is divisible by 3\n",
      "16 is not divisible by 3\n",
      "31 is not divisible by 3\n",
      "25 is not divisible by 3\n"
     ]
    }
   ],
   "source": [
    "#Q6.\n",
    "\n",
    "numbers = [17, 9, 4, 33, 10, 21, 30, 2, 27, 8, 14, 19, 1, 36, 7, 15, 11, 13, 5, 22, 12, 3, 16, 31, 25]\n",
    "\n",
    "for number in numbers:\n",
    "    if number % 3 == 0:\n",
    "        print(f\"{number} is divisible by 3\")\n",
    "    else:\n",
    "        print(f\"{number} is not divisible by 3\")"
   ]
  },
  {
   "cell_type": "code",
   "execution_count": null,
   "id": "75d72e3e-38a9-4344-9b8f-472a06323adf",
   "metadata": {},
   "outputs": [],
   "source": [
    "#Q7.\n",
    "\n",
    "Immutable data types:\n",
    "Immutable data types are those whose values cannot be modified once they are created. Any operation that appears to modify an immutable object actually creates a new object with the desired changes. Examples of immutable data types include:\n",
    "\n",
    "    Strings: In many programming languages, strings are immutable. Once a string object is created, its value cannot be changed. For example:\n",
    "message = \"Hello\"\n",
    "new_message = message + \" World\"\n",
    "print(new_message)  Output: Hello World\n",
    "print(message)  Output: Hello\n",
    "\n",
    "\n",
    "\n",
    "\n",
    "Mutable data types:\n",
    "Mutable data types are those whose values can be modified after they are created. Changes made to a mutable object directly modify the object itself, without creating a new object. Examples of mutable data types include:\n",
    "   \n",
    "     Lists: Lists are commonly used mutable data types. Elements can be added, removed, or modified within a list. For example:\n",
    "numbers = [1, 2, 3]\n",
    "numbers.append(4)\n",
    "print(numbers)   Output: [1, 2, 3, 4]\n",
    "numbers[1] = 5\n",
    "print(numbers)   Output: [1, 5, 3, 4]\n"
   ]
  }
 ],
 "metadata": {
  "kernelspec": {
   "display_name": "Python 3 (ipykernel)",
   "language": "python",
   "name": "python3"
  },
  "language_info": {
   "codemirror_mode": {
    "name": "ipython",
    "version": 3
   },
   "file_extension": ".py",
   "mimetype": "text/x-python",
   "name": "python",
   "nbconvert_exporter": "python",
   "pygments_lexer": "ipython3",
   "version": "3.10.8"
  }
 },
 "nbformat": 4,
 "nbformat_minor": 5
}
